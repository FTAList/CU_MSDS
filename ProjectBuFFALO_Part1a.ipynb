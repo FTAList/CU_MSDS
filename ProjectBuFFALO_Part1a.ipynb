{
 "cells": [
  {
   "cell_type": "markdown",
   "id": "e3222da6-0691-4a3e-888c-1749ad6cc512",
   "metadata": {},
   "source": [
    "![Buffalo Soccer Header](https://carload.com/g/BuffaloSoccerWide400.jpg)\n",
    "\n",
    "# Part 1a, Capture and Convert the OpenLiga data\n",
    "\n",
    "The data from OpenLigaDB (https://www.openligadb.de/) is accessed through JSON responses. One league at a time, this code ingested that information and changed its JSON formatting into a dataframe of the basic match details we need."
   ]
  },
  {
   "cell_type": "code",
   "execution_count": 1,
   "id": "ba43efda",
   "metadata": {},
   "outputs": [],
   "source": [
    "import pandas as pd\n",
    "import matplotlib.pyplot as plt\n",
    "import numpy as np\n",
    "import json\n",
    "import datetime\n",
    "from datetime import datetime"
   ]
  },
  {
   "cell_type": "code",
   "execution_count": 2,
   "id": "efaca955-57ba-4db2-88f9-75c1135b95b3",
   "metadata": {},
   "outputs": [],
   "source": [
    "with open('data/buffalo/champions_2023.json', 'r') as file:\n",
    "    data = json.load(file)\n",
    "#data is a list"
   ]
  },
  {
   "cell_type": "markdown",
   "id": "65eb2dea-7845-4810-a73d-f1c7ea6dd355",
   "metadata": {},
   "source": [
    "An important step in this process is the generation of ordinal dates. They will be crucial in folding this information in with the master Bundesliga season data."
   ]
  },
  {
   "cell_type": "code",
   "execution_count": 3,
   "id": "3878ef1a",
   "metadata": {},
   "outputs": [],
   "source": [
    "gameCounter = 0\n",
    "dfMatch = pd.DataFrame({'matchID': [], 'ordDate': [], 'team1Name': [], 'team2Name': [], 'result':[]})\n",
    "\n",
    "for eachItem in data:\n",
    "    #eachItem is a dict\n",
    "    matchID = eachItem['matchID']\n",
    "    rawDate = eachItem['matchDateTime']\n",
    "    justDate = rawDate[:10] \n",
    "    #justDate is yyyy-mm-dd\n",
    "    #convert to datetime, then get ordinal\n",
    "    dateTimeObj = datetime.strptime(justDate, '%Y-%m-%d')\n",
    "    ordDate = dateTimeObj.toordinal()\n",
    "\n",
    "    team1Name = eachItem['team1']['shortName']\n",
    "    team2Name = eachItem['team2']['shortName']\n",
    "    for partScore in eachItem['matchResults']:\n",
    "        if (partScore['resultName'] == 'Halbzeit'):\n",
    "            # halftime  - don't need it\n",
    "            continue\n",
    "        if (partScore['resultName'] == 'Endergebnis'):\n",
    "            #store final score stuff\n",
    "            team1Score = partScore['pointsTeam1']\n",
    "            team2Score = partScore['pointsTeam2']\n",
    "            # Since this is the dfb Cup, there are no draws\n",
    "            if team1Score > team2Score:\n",
    "                result = 3 # meaning home team win\n",
    "            else:\n",
    "                if team1Score == team2Score:\n",
    "                    result = 1 # not a tournament, ties happen\n",
    "                else:\n",
    "                    result = 0 # visiting team win\n",
    "                \n",
    "    dfMatch.loc[gameCounter] = [matchID, ordDate, team1Name, team2Name, result]\n",
    "    gameCounter = gameCounter + 1\n"
   ]
  },
  {
   "cell_type": "code",
   "execution_count": 4,
   "id": "8b24b9f9",
   "metadata": {},
   "outputs": [
    {
     "data": {
      "text/html": [
       "<div>\n",
       "<style scoped>\n",
       "    .dataframe tbody tr th:only-of-type {\n",
       "        vertical-align: middle;\n",
       "    }\n",
       "\n",
       "    .dataframe tbody tr th {\n",
       "        vertical-align: top;\n",
       "    }\n",
       "\n",
       "    .dataframe thead th {\n",
       "        text-align: right;\n",
       "    }\n",
       "</style>\n",
       "<table border=\"1\" class=\"dataframe\">\n",
       "  <thead>\n",
       "    <tr style=\"text-align: right;\">\n",
       "      <th></th>\n",
       "      <th>matchID</th>\n",
       "      <th>ordDate</th>\n",
       "      <th>team1Name</th>\n",
       "      <th>team2Name</th>\n",
       "      <th>result</th>\n",
       "    </tr>\n",
       "  </thead>\n",
       "  <tbody>\n",
       "    <tr>\n",
       "      <th>0</th>\n",
       "      <td>68546</td>\n",
       "      <td>738782</td>\n",
       "      <td>YB</td>\n",
       "      <td>Leipzig</td>\n",
       "      <td>0</td>\n",
       "    </tr>\n",
       "    <tr>\n",
       "      <th>1</th>\n",
       "      <td>68561</td>\n",
       "      <td>738782</td>\n",
       "      <td>ACM</td>\n",
       "      <td>Newcastle</td>\n",
       "      <td>1</td>\n",
       "    </tr>\n",
       "    <tr>\n",
       "      <th>2</th>\n",
       "      <td>68547</td>\n",
       "      <td>738782</td>\n",
       "      <td>Feyenoord</td>\n",
       "      <td>Celtic</td>\n",
       "      <td>3</td>\n",
       "    </tr>\n",
       "    <tr>\n",
       "      <th>3</th>\n",
       "      <td>68548</td>\n",
       "      <td>738782</td>\n",
       "      <td>Lazio Rom</td>\n",
       "      <td></td>\n",
       "      <td>1</td>\n",
       "    </tr>\n",
       "    <tr>\n",
       "      <th>4</th>\n",
       "      <td>68549</td>\n",
       "      <td>738782</td>\n",
       "      <td>PSG</td>\n",
       "      <td>BVB</td>\n",
       "      <td>3</td>\n",
       "    </tr>\n",
       "  </tbody>\n",
       "</table>\n",
       "</div>"
      ],
      "text/plain": [
       "   matchID  ordDate  team1Name  team2Name  result\n",
       "0    68546   738782         YB    Leipzig       0\n",
       "1    68561   738782        ACM  Newcastle       1\n",
       "2    68547   738782  Feyenoord     Celtic       3\n",
       "3    68548   738782  Lazio Rom                  1\n",
       "4    68549   738782        PSG        BVB       3"
      ]
     },
     "execution_count": 4,
     "metadata": {},
     "output_type": "execute_result"
    }
   ],
   "source": [
    "dfMatch.head()"
   ]
  },
  {
   "cell_type": "code",
   "execution_count": 5,
   "id": "b696bf35-91f7-40bc-8768-49a30e6e81fe",
   "metadata": {},
   "outputs": [
    {
     "name": "stdout",
     "output_type": "stream",
     "text": [
      "(125, 5)\n"
     ]
    }
   ],
   "source": [
    "print (dfMatch.shape)"
   ]
  },
  {
   "cell_type": "markdown",
   "id": "a7b14f49-0a14-46b2-9f82-61b4a248933c",
   "metadata": {},
   "source": [
    "### Match the Team Names\n",
    "\n",
    "Here's another tricky, semi-manual process. For each of the Bundesliga teams named in the OpenLiga data, I need to ensure that its name string precisely matches the string used by the primary dataset, which we'll see in Part 2."
   ]
  },
  {
   "cell_type": "code",
   "execution_count": 6,
   "id": "1d5612d2-f183-4b20-8930-14521717ee72",
   "metadata": {},
   "outputs": [
    {
     "name": "stdout",
     "output_type": "stream",
     "text": [
      "['' 'ACM' 'Arsenal' 'BVB' 'Barcelona' 'Bayern' 'Belgrad' 'Benfica' 'Braga'\n",
      " 'Celtic' 'Feyenoord' 'Galatasaray' 'Inter' 'Lazio Rom' 'Leipzig' 'Lens'\n",
      " 'Madrid' \"Man'City\" 'ManU' 'Newcastle' 'PSG' 'PSV' 'Porto' 'Union Berlin'\n",
      " 'YB' 'antwerpen']\n",
      "<class 'numpy.ndarray'>\n"
     ]
    }
   ],
   "source": [
    "teamList = dfMatch['team1Name'].unique()\n",
    "teamList.sort()\n",
    "print(teamList)\n",
    "print(type(teamList))"
   ]
  },
  {
   "cell_type": "code",
   "execution_count": 7,
   "id": "af8b3709-239b-4053-9698-2a1415357f5c",
   "metadata": {},
   "outputs": [
    {
     "name": "stdout",
     "output_type": "stream",
     "text": [
      "['' 'ACM' 'Arsenal' 'BVB' 'Barcelona' 'Bayern' 'Belgrad' 'Benfica' 'Braga'\n",
      " 'Celtic' 'Feyenoord' 'Galatasaray' 'Inter' 'Lazio Rom' 'Leipzig' 'Lens'\n",
      " 'Madrid' \"Man'City\" 'ManU' 'Newcastle' 'PSG' 'PSV' 'Porto' 'Union Berlin'\n",
      " 'YB' 'antwerpen']\n",
      "<class 'numpy.ndarray'>\n"
     ]
    }
   ],
   "source": [
    "team2List = dfMatch['team2Name'].unique()\n",
    "team2List.sort()\n",
    "print(team2List)\n",
    "print(type(team2List))"
   ]
  },
  {
   "cell_type": "code",
   "execution_count": 8,
   "id": "a8d9050c-e051-4e98-8320-67581a641ed1",
   "metadata": {},
   "outputs": [
    {
     "name": "stdout",
     "output_type": "stream",
     "text": [
      "['', 'ACM', 'Arsenal', 'BVB', 'Barcelona', 'Bayern', 'Belgrad', 'Benfica', 'Braga', 'Celtic', 'Feyenoord', 'Galatasaray', 'Inter', 'Lazio Rom', 'Leipzig', 'Lens', 'Madrid', \"Man'City\", 'ManU', 'Newcastle', 'PSG', 'PSV', 'Porto', 'Union Berlin', 'YB', 'antwerpen']\n"
     ]
    }
   ],
   "source": [
    "homeSet = set(teamList)\n",
    "awaySet = set(team2List)\n",
    "\n",
    "awayNotHome = awaySet - homeSet\n",
    "# despite its name, teamList was really an array, so to fix that...\n",
    "teamListReally = list(teamList)\n",
    "awayNotHomeList = list(awayNotHome)\n",
    "allTeams = teamListReally + awayNotHomeList\n",
    "allTeams.sort()\n",
    "print(allTeams)"
   ]
  },
  {
   "cell_type": "code",
   "execution_count": 9,
   "id": "80a1ceda-df10-4bb1-888c-753d3bc4032d",
   "metadata": {},
   "outputs": [],
   "source": [
    "#Change team names to precisely match the primary dataframe\n",
    "dfMatch.replace('BVB', 'Dortmund', inplace=True)\n",
    "dfMatch.replace('Bayern', 'Bayern Munich', inplace=True)\n",
    "dfMatch.replace('Frankfurt', 'Ein Frankfurt', inplace=True)\n",
    "#dfMatch.replace('KÃ¶ln', 'FC Koln', inplace=True)\n",
    "#dfMatch.replace('FÃ¼rth', 'Greuther Furth', inplace=True)\n",
    "#dfMatch.replace('Gladbach', \"M'gladbach\", inplace=True)\n",
    "dfMatch.replace('Leipzig', 'RB Leipzig', inplace=True)\n",
    "#dfMatch.replace('Schalke', 'Schalke 04', inplace=True)\n",
    "#dfMatch.replace('Bremen', 'Werder Bremen', inplace=True)"
   ]
  },
  {
   "cell_type": "code",
   "execution_count": 10,
   "id": "b6e98e14-bd97-4877-a049-1d024998c94f",
   "metadata": {},
   "outputs": [
    {
     "name": "stdout",
     "output_type": "stream",
     "text": [
      "['' 'ACM' 'Arsenal' 'Barcelona' 'Bayern Munich' 'Belgrad' 'Benfica'\n",
      " 'Braga' 'Celtic' 'Dortmund' 'Feyenoord' 'Galatasaray' 'Inter' 'Lazio Rom'\n",
      " 'Lens' 'Madrid' \"Man'City\" 'ManU' 'Newcastle' 'PSG' 'PSV' 'Porto'\n",
      " 'RB Leipzig' 'Union Berlin' 'YB' 'antwerpen']\n"
     ]
    }
   ],
   "source": [
    "team1List = dfMatch['team1Name'].unique()\n",
    "team1List.sort()\n",
    "print(team1List)"
   ]
  },
  {
   "cell_type": "code",
   "execution_count": 11,
   "id": "c9e121f0-7ff0-4d7a-b5e4-20e9b78a92df",
   "metadata": {
    "scrolled": true
   },
   "outputs": [
    {
     "name": "stdout",
     "output_type": "stream",
     "text": [
      "['' 'ACM' 'Arsenal' 'Barcelona' 'Bayern Munich' 'Belgrad' 'Benfica'\n",
      " 'Braga' 'Celtic' 'Dortmund' 'Feyenoord' 'Galatasaray' 'Inter' 'Lazio Rom'\n",
      " 'Lens' 'Madrid' \"Man'City\" 'ManU' 'Newcastle' 'PSG' 'PSV' 'Porto'\n",
      " 'RB Leipzig' 'Union Berlin' 'YB' 'antwerpen']\n"
     ]
    }
   ],
   "source": [
    "team2List = dfMatch['team2Name'].unique()\n",
    "team2List.sort()\n",
    "print(team2List)"
   ]
  },
  {
   "cell_type": "markdown",
   "id": "61f6f1c1-b368-4a87-846c-39a97b0b199d",
   "metadata": {},
   "source": [
    "Now save the dataframe to a pickle file for merging. While we're here, we might as well save it as a CSV file just in case."
   ]
  },
  {
   "cell_type": "code",
   "execution_count": null,
   "id": "96cf2953-8645-4b71-907b-4c02f5f5cdb5",
   "metadata": {},
   "outputs": [],
   "source": [
    "dfMatch.to_pickle('data/buffalo/champions_2023.pkl')"
   ]
  },
  {
   "cell_type": "code",
   "execution_count": 5,
   "id": "99e14368-62ce-4922-8974-8ce6857bddd2",
   "metadata": {},
   "outputs": [],
   "source": [
    "dfMatch.to_csv('data/buffalo/champions_2023.csv')"
   ]
  },
  {
   "cell_type": "code",
   "execution_count": null,
   "id": "fb67e968-6ab8-4088-981f-562401ed7ea5",
   "metadata": {},
   "outputs": [],
   "source": []
  }
 ],
 "metadata": {
  "kernelspec": {
   "display_name": "Python 3 (ipykernel)",
   "language": "python",
   "name": "python3"
  },
  "language_info": {
   "codemirror_mode": {
    "name": "ipython",
    "version": 3
   },
   "file_extension": ".py",
   "mimetype": "text/x-python",
   "name": "python",
   "nbconvert_exporter": "python",
   "pygments_lexer": "ipython3",
   "version": "3.11.2"
  }
 },
 "nbformat": 4,
 "nbformat_minor": 5
}
