{
 "cells": [
  {
   "cell_type": "markdown",
   "id": "aa146f76-7a5b-4c7c-b6a7-2a6e08b89ffc",
   "metadata": {},
   "source": [
    "![Buffalo Soccer Header](https://carload.com/g/BuffaloSoccerWide400.jpg)\n",
    "\n",
    "# Part 1b, Merge the OpenLiga data\n",
    "\n",
    "After creating Pandas pickle files for each of the midweek leagues of interest, the German Cup (dfb Pokal), Europa League, and Champions League, It's time to merge them into a single dataframe. "
   ]
  },
  {
   "cell_type": "code",
   "execution_count": 1,
   "id": "3d8f6fe0-5a3d-4de9-8fdc-189c1dc64c6e",
   "metadata": {},
   "outputs": [],
   "source": [
    "import pandas as pd"
   ]
  },
  {
   "cell_type": "code",
   "execution_count": 15,
   "id": "6221e201-7f67-4526-a513-7baba32e162d",
   "metadata": {},
   "outputs": [],
   "source": [
    "dfEuropa2021 = pd.read_pickle('data/buffalo/europa_2021.pkl')\n",
    "dfEuropa2022 = pd.read_pickle('data/buffalo/europa_2022.pkl')\n",
    "dfEuropa2023 = pd.read_pickle('data/buffalo/europa_2023.pkl')\n",
    "dfChamps2021 = pd.read_pickle('data/buffalo/champions_2021.pkl')\n",
    "dfChamps2022 = pd.read_pickle('data/buffalo/champions_2022.pkl')\n",
    "dfChamps2023 = pd.read_pickle('data/buffalo/champions_2023.pkl')\n",
    "dfPokal2021 = pd.read_pickle('data/buffalo/dfb_2021.pkl')\n",
    "dfPokal2022 = pd.read_pickle('data/buffalo/dfb_2022.pkl')\n",
    "dfPokal2023 = pd.read_pickle('data/buffalo/dfb_2023.pkl')"
   ]
  },
  {
   "cell_type": "code",
   "execution_count": 20,
   "id": "c640d5d1-a2b1-44bc-99e9-42aae45243c2",
   "metadata": {},
   "outputs": [
    {
     "data": {
      "text/html": [
       "<div>\n",
       "<style scoped>\n",
       "    .dataframe tbody tr th:only-of-type {\n",
       "        vertical-align: middle;\n",
       "    }\n",
       "\n",
       "    .dataframe tbody tr th {\n",
       "        vertical-align: top;\n",
       "    }\n",
       "\n",
       "    .dataframe thead th {\n",
       "        text-align: right;\n",
       "    }\n",
       "</style>\n",
       "<table border=\"1\" class=\"dataframe\">\n",
       "  <thead>\n",
       "    <tr style=\"text-align: right;\">\n",
       "      <th></th>\n",
       "      <th>matchID</th>\n",
       "      <th>ordDate</th>\n",
       "      <th>team1Name</th>\n",
       "      <th>team2Name</th>\n",
       "      <th>result</th>\n",
       "    </tr>\n",
       "  </thead>\n",
       "  <tbody>\n",
       "    <tr>\n",
       "      <th>0</th>\n",
       "      <td>62820</td>\n",
       "      <td>738133</td>\n",
       "      <td>Sparta</td>\n",
       "      <td>Brondby</td>\n",
       "      <td>3</td>\n",
       "    </tr>\n",
       "    <tr>\n",
       "      <th>1</th>\n",
       "      <td>62821</td>\n",
       "      <td>738133</td>\n",
       "      <td>Lyon</td>\n",
       "      <td>Rangers</td>\n",
       "      <td>1</td>\n",
       "    </tr>\n",
       "    <tr>\n",
       "      <th>2</th>\n",
       "      <td>62822</td>\n",
       "      <td>738133</td>\n",
       "      <td></td>\n",
       "      <td></td>\n",
       "      <td>1</td>\n",
       "    </tr>\n",
       "    <tr>\n",
       "      <th>3</th>\n",
       "      <td>62823</td>\n",
       "      <td>738133</td>\n",
       "      <td></td>\n",
       "      <td>PSV</td>\n",
       "      <td>3</td>\n",
       "    </tr>\n",
       "    <tr>\n",
       "      <th>4</th>\n",
       "      <td>62824</td>\n",
       "      <td>738133</td>\n",
       "      <td></td>\n",
       "      <td>mos spartak</td>\n",
       "      <td>0</td>\n",
       "    </tr>\n",
       "  </tbody>\n",
       "</table>\n",
       "</div>"
      ],
      "text/plain": [
       "   matchID  ordDate team1Name    team2Name  result\n",
       "0    62820   738133    Sparta      Brondby       3\n",
       "1    62821   738133      Lyon      Rangers       1\n",
       "2    62822   738133                              1\n",
       "3    62823   738133                    PSV       3\n",
       "4    62824   738133            mos spartak       0"
      ]
     },
     "execution_count": 20,
     "metadata": {},
     "output_type": "execute_result"
    }
   ],
   "source": [
    "dfOpenLiga = pd.concat([dfEuropa2021, dfEuropa2022, dfEuropa2023,\n",
    "                        dfChamps2021, dfChamps2022, dfChamps2023,\n",
    "                        dfPokal2021, dfPokal2022, dfPokal2023])\n",
    "dfOpenLiga.head()"
   ]
  },
  {
   "cell_type": "markdown",
   "id": "0204cb5a-3a34-4ec1-8dbb-2103b671b186",
   "metadata": {},
   "source": [
    "As you can see, we don't care about very many details in these games. Partly because of flaws in the input data, the original idea of tracking every goal by minute proved to be unworkable. In fact, in the example above, we can't even tell who was playing in matchID 62822.\n",
    "\n",
    "We'll save this into a single pickle file to merge with the master data."
   ]
  },
  {
   "cell_type": "code",
   "execution_count": 22,
   "id": "24e9c1b2-c35d-468a-ac1a-a63095399013",
   "metadata": {},
   "outputs": [],
   "source": [
    "dfOpenLiga.to_pickle('data/buffalo/openliga.pkl')"
   ]
  },
  {
   "cell_type": "markdown",
   "id": "ecd23830-c124-4df1-9780-14b98d10b240",
   "metadata": {},
   "source": [
    "Because of errors in the data provided by OpenLiga, I had to create custom CSV files for the 2022 and 2023 Europa League seasons. Since they only include the matches played by Bundesliga teams, they were smaller than the full-roster 2021 file."
   ]
  },
  {
   "cell_type": "code",
   "execution_count": 21,
   "id": "95d96df5-4391-41e8-aed9-b6c1d80ff909",
   "metadata": {},
   "outputs": [
    {
     "name": "stdout",
     "output_type": "stream",
     "text": [
      "(61, 5)\n",
      "(26, 5)\n",
      "(21, 5)\n",
      "(642, 5)\n"
     ]
    }
   ],
   "source": [
    "print (dfEuropa2021.shape)\n",
    "print (dfEuropa2022.shape)\n",
    "print (dfEuropa2023.shape)\n",
    "print (dfOpenLiga.shape)"
   ]
  },
  {
   "cell_type": "code",
   "execution_count": null,
   "id": "1d45f0ae-495a-46fc-92c6-ca52e48103b9",
   "metadata": {},
   "outputs": [],
   "source": []
  }
 ],
 "metadata": {
  "kernelspec": {
   "display_name": "Python 3 (ipykernel)",
   "language": "python",
   "name": "python3"
  },
  "language_info": {
   "codemirror_mode": {
    "name": "ipython",
    "version": 3
   },
   "file_extension": ".py",
   "mimetype": "text/x-python",
   "name": "python",
   "nbconvert_exporter": "python",
   "pygments_lexer": "ipython3",
   "version": "3.11.2"
  }
 },
 "nbformat": 4,
 "nbformat_minor": 5
}
